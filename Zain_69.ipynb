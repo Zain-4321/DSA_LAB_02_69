{
  "cells": [
    {
      "cell_type": "code",
      "source": [
        "# Name = ZAIN ALI SHAH\n",
        "# Roll No =23-Ai-69\n",
        "def word_pattern(pattern,s):\n",
        "    # split the string 's' into a list of words\n",
        "    words=s.split()\n",
        "\n",
        "    if len(pattern)!=len(words):\n",
        "        return False\n",
        "\n",
        "    char_to_word={}\n",
        "    word_to_char={}\n",
        "\n",
        "    for char,word in zip(pattern, words):\n",
        "            # if the character map to a different word\n",
        "            if char in  char_to_word and  char_to_word[char] !=word:\n",
        "                return False\n",
        "            # if the word map has already been different word\n",
        "            if word in word_to_char and word_to_char[word] !=char:\n",
        "                # Map the character\n",
        "                char_to_word[char]=word\n",
        "                word_to_char[word]=char\n",
        "            # all mapping are consistant\n",
        "            return True\n",
        "\n",
        "print(word_pattern(\"abba\",\"dog cat cat dog\"))\n",
        "print(word_pattern(\"abba\",\"dog cat cat fish\"))\n",
        "print(word_pattern(\"aaaa\",\"dog cat cat dog\"))\n"
      ],
      "metadata": {
        "colab": {
          "base_uri": "https://localhost:8080/"
        },
        "id": "XtlS2_Y5pes2",
        "outputId": "8ce708d6-f6c4-4095-9602-418cf87e5106"
      },
      "execution_count": 1,
      "outputs": [
        {
          "output_type": "stream",
          "name": "stdout",
          "text": [
            "True\n",
            "True\n",
            "True\n"
          ]
        }
      ]
    }
  ],
  "metadata": {
    "colab": {
      "name": "Welcome To Colab",
      "toc_visible": true,
      "provenance": []
    },
    "kernelspec": {
      "display_name": "Python 3",
      "name": "python3"
    }
  },
  "nbformat": 4,
  "nbformat_minor": 0
}